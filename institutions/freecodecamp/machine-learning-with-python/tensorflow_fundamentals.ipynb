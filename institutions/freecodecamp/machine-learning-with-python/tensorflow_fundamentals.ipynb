{
 "cells": [
  {
   "cell_type": "code",
   "execution_count": 1,
   "id": "6768bc71",
   "metadata": {},
   "outputs": [],
   "source": [
    "import tensorflow as tf"
   ]
  },
  {
   "cell_type": "code",
   "execution_count": 4,
   "id": "c9e97fdb",
   "metadata": {},
   "outputs": [
    {
     "name": "stdout",
     "output_type": "stream",
     "text": [
      "<tf.Variable 'Variable:0' shape=() dtype=string, numpy=b'This is a string'>\n",
      "<tf.Variable 'Variable:0' shape=() dtype=int32, numpy=225>\n",
      "<tf.Variable 'Variable:0' shape=() dtype=float32, numpy=3.141590118408203>\n"
     ]
    }
   ],
   "source": [
    "# Datatypes in tensorflow\n",
    "string_dt = tf.Variable(\"This is a string\", tf.string)\n",
    "integer_dt = tf.Variable(225, tf.int64)\n",
    "float_dt = tf.Variable(3.14159, tf.float64)\n",
    "\n",
    "print(string_dt)\n",
    "print(integer_dt)\n",
    "print(float_dt)"
   ]
  },
  {
   "cell_type": "code",
   "execution_count": null,
   "id": "3d001994",
   "metadata": {},
   "outputs": [],
   "source": []
  }
 ],
 "metadata": {
  "kernelspec": {
   "display_name": "ml-env",
   "language": "python",
   "name": "python3"
  },
  "language_info": {
   "codemirror_mode": {
    "name": "ipython",
    "version": 3
   },
   "file_extension": ".py",
   "mimetype": "text/x-python",
   "name": "python",
   "nbconvert_exporter": "python",
   "pygments_lexer": "ipython3",
   "version": "3.10.18"
  }
 },
 "nbformat": 4,
 "nbformat_minor": 5
}
